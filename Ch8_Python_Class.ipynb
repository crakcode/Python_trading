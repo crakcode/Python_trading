{
  "nbformat": 4,
  "nbformat_minor": 0,
  "metadata": {
    "colab": {
      "name": "Ch8.Python_Class.ipynb",
      "provenance": [],
      "authorship_tag": "ABX9TyPZJzoeN3SGsRyx/Hutr1Ug",
      "include_colab_link": true
    },
    "kernelspec": {
      "name": "python3",
      "display_name": "Python 3"
    }
  },
  "cells": [
    {
      "cell_type": "markdown",
      "metadata": {
        "id": "view-in-github",
        "colab_type": "text"
      },
      "source": [
        "<a href=\"https://colab.research.google.com/github/crakcode/Python_trading/blob/main/Ch8_Python_Class.ipynb\" target=\"_parent\"><img src=\"https://colab.research.google.com/assets/colab-badge.svg\" alt=\"Open In Colab\"/></a>"
      ]
    },
    {
      "cell_type": "code",
      "metadata": {
        "id": "f6-qp9H7qFU0",
        "outputId": "6b19527c-615f-4c40-a3b7-9979a9a81ba1",
        "colab": {
          "base_uri": "https://localhost:8080/",
          "height": 35
        }
      },
      "source": [
        ""
      ],
      "execution_count": null,
      "outputs": [
        {
          "output_type": "stream",
          "text": [
            "hello world\n"
          ],
          "name": "stdout"
        }
      ]
    },
    {
      "cell_type": "markdown",
      "metadata": {
        "id": "3yov042trmTu"
      },
      "source": [
        "클래스의 정의\n",
        "\n",
        "Business Card라는 클래스를 생성하고 그에 따라서 인스턴스를 사용하여 구체화한다. 또한 메모리의 특정위치에 생성되고 card1이 변수가 이를 바인딩하게 된다. \n",
        "\n"
      ]
    },
    {
      "cell_type": "code",
      "metadata": {
        "id": "OsHX-isgro1m",
        "outputId": "d55e2d7a-6cb8-46e7-ccf3-10eec31ec0db",
        "colab": {
          "base_uri": "https://localhost:8080/",
          "height": 35
        }
      },
      "source": [
        "class BusinessCard:\n",
        "  pass\n",
        "\n",
        "\n",
        "card1=BusinessCard()\n",
        "card1"
      ],
      "execution_count": 4,
      "outputs": [
        {
          "output_type": "execute_result",
          "data": {
            "text/plain": [
              "<__main__.BusinessCard at 0x7f2e7d7fa3c8>"
            ]
          },
          "metadata": {
            "tags": []
          },
          "execution_count": 4
        }
      ]
    },
    {
      "cell_type": "markdown",
      "metadata": {
        "id": "-eRzaCk6sRS1"
      },
      "source": [
        "클래스에 메서드 추가하기\n",
        "\n",
        "name에 input값을 받아서 self.name 이라는 변수에 바인딩 해준다. "
      ]
    },
    {
      "cell_type": "code",
      "metadata": {
        "id": "aTTzMbzdsTM_",
        "outputId": "a9ff28b6-cbdf-4f53-f12c-f4de39da8655",
        "colab": {
          "base_uri": "https://localhost:8080/",
          "height": 71
        }
      },
      "source": [
        "class BusinessCard:\n",
        "  def set_info(self,name,email,addr):\n",
        "    self.name=name\n",
        "    self.email=email\n",
        "    self.addr=addr\n",
        "  \n",
        "  def print_info(self):\n",
        "    print(self.name)\n",
        "    print(self.email)\n",
        "    print(self.addr)\n",
        "\n",
        "card1=BusinessCard()\n",
        "card1.set_info(\"shin\",\"eee@naver.com\",\"Seoul\")\n",
        "\n",
        "card1.print_info()\n",
        "\n",
        "\n",
        "\n",
        "\n"
      ],
      "execution_count": 8,
      "outputs": [
        {
          "output_type": "stream",
          "text": [
            "shin\n",
            "eee@naver.com\n",
            "Seoul\n"
          ],
          "name": "stdout"
        }
      ]
    },
    {
      "cell_type": "markdown",
      "metadata": {
        "id": "bjNyL9hNsSHk"
      },
      "source": [
        "클래스 생성자 \n"
      ]
    },
    {
      "cell_type": "code",
      "metadata": {
        "id": "GBQiVqRFvA8c",
        "outputId": "bdebf353-83bb-4a64-bf3e-df215cad8acf",
        "colab": {
          "base_uri": "https://localhost:8080/",
          "height": 35
        }
      },
      "source": [
        "class MyClass:\n",
        "  def __init__(self):\n",
        "    print(\"객체가 생성되었습니다.\")\n",
        "\n",
        "\n",
        "myclass1=MyClass()\n"
      ],
      "execution_count": 15,
      "outputs": [
        {
          "output_type": "stream",
          "text": [
            "객체가 생성되었습니다.\n"
          ],
          "name": "stdout"
        }
      ]
    },
    {
      "cell_type": "markdown",
      "metadata": {
        "id": "0noQWKhdsSJu"
      },
      "source": [
        "ex 학생수를 지정하고 그에 따라 저장하는 함수를 만들어서 사용해보자"
      ]
    },
    {
      "cell_type": "code",
      "metadata": {
        "id": "hvvyhTkTsQ6z",
        "outputId": "a0ea1cb4-6212-43fd-c2d8-592994ec9e3a",
        "colab": {
          "base_uri": "https://localhost:8080/",
          "height": 280
        }
      },
      "source": [
        "class stu_sys:\n",
        "  def stu_set(self,name,major,age):\n",
        "    self.name=name\n",
        "    self.major=major\n",
        "    self.age=age\n",
        "\n",
        "  def stu_print(self):\n",
        "    print(self.name) \n",
        "    print(self.major) \n",
        "    print(self.age) \n",
        "\n",
        "\n",
        "n=int(input())\n",
        "stu=stu_sys()\n",
        "stu_list=[]\n",
        "\n",
        "for i in range(n):\n",
        "  a,b,c=input().split()\n",
        "  stu.stu_set(a,b,c)\n",
        "  stu_list[i]=stu.name\n",
        "\n",
        "\n",
        "print(stu)\n",
        "\n",
        "\n",
        "\n",
        "\n",
        "\n"
      ],
      "execution_count": 14,
      "outputs": [
        {
          "output_type": "stream",
          "text": [
            "2\n",
            "qw wdq qw\n"
          ],
          "name": "stdout"
        },
        {
          "output_type": "error",
          "ename": "TypeError",
          "evalue": "ignored",
          "traceback": [
            "\u001b[0;31m---------------------------------------------------------------------------\u001b[0m",
            "\u001b[0;31mTypeError\u001b[0m                                 Traceback (most recent call last)",
            "\u001b[0;32m<ipython-input-14-79e9acf60a19>\u001b[0m in \u001b[0;36m<module>\u001b[0;34m()\u001b[0m\n\u001b[1;32m     17\u001b[0m \u001b[0;32mfor\u001b[0m \u001b[0mi\u001b[0m \u001b[0;32min\u001b[0m \u001b[0mrange\u001b[0m\u001b[0;34m(\u001b[0m\u001b[0mn\u001b[0m\u001b[0;34m)\u001b[0m\u001b[0;34m:\u001b[0m\u001b[0;34m\u001b[0m\u001b[0;34m\u001b[0m\u001b[0m\n\u001b[1;32m     18\u001b[0m   \u001b[0ma\u001b[0m\u001b[0;34m,\u001b[0m\u001b[0mb\u001b[0m\u001b[0;34m,\u001b[0m\u001b[0mc\u001b[0m\u001b[0;34m=\u001b[0m\u001b[0minput\u001b[0m\u001b[0;34m(\u001b[0m\u001b[0;34m)\u001b[0m\u001b[0;34m.\u001b[0m\u001b[0msplit\u001b[0m\u001b[0;34m(\u001b[0m\u001b[0;34m)\u001b[0m\u001b[0;34m\u001b[0m\u001b[0;34m\u001b[0m\u001b[0m\n\u001b[0;32m---> 19\u001b[0;31m   \u001b[0mstu\u001b[0m\u001b[0;34m[\u001b[0m\u001b[0mi\u001b[0m\u001b[0;34m]\u001b[0m\u001b[0;34m.\u001b[0m\u001b[0mstu_set\u001b[0m\u001b[0;34m(\u001b[0m\u001b[0ma\u001b[0m\u001b[0;34m,\u001b[0m\u001b[0mb\u001b[0m\u001b[0;34m,\u001b[0m\u001b[0mc\u001b[0m\u001b[0;34m)\u001b[0m\u001b[0;34m\u001b[0m\u001b[0;34m\u001b[0m\u001b[0m\n\u001b[0m\u001b[1;32m     20\u001b[0m \u001b[0;34m\u001b[0m\u001b[0m\n\u001b[1;32m     21\u001b[0m \u001b[0;34m\u001b[0m\u001b[0m\n",
            "\u001b[0;31mTypeError\u001b[0m: 'stu_sys' object does not support indexing"
          ]
        }
      ]
    },
    {
      "cell_type": "markdown",
      "metadata": {
        "id": "jH9klgGRv1ts"
      },
      "source": [
        "self 이해하기"
      ]
    },
    {
      "cell_type": "code",
      "metadata": {
        "id": "y6rE9KxPwFvM",
        "outputId": "ca251eac-7e45-4e5e-f8b9-6493d3f91ec0",
        "colab": {
          "base_uri": "https://localhost:8080/",
          "height": 35
        }
      },
      "source": [
        "class Myclass:\n",
        "  def func1(self):\n",
        "    print(\"func1\")\n",
        "  def func2():\n",
        "    print(\"func2\")\n",
        "\n",
        "myclass1=Myclass()\n",
        "myclass1.func1()\n",
        "\n"
      ],
      "execution_count": 17,
      "outputs": [
        {
          "output_type": "stream",
          "text": [
            "func1\n"
          ],
          "name": "stdout"
        }
      ]
    }
  ]
}